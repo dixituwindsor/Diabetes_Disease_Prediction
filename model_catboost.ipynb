{
 "cells": [
  {
   "cell_type": "code",
   "execution_count": 66,
   "metadata": {
    "collapsed": true,
    "ExecuteTime": {
     "end_time": "2023-08-03T17:32:27.271413800Z",
     "start_time": "2023-08-03T17:32:27.217405200Z"
    }
   },
   "outputs": [],
   "source": [
    "import pandas as pd\n",
    "from sklearn.model_selection import train_test_split\n",
    "from sklearn.metrics import mean_absolute_error, accuracy_score\n",
    "from catboost import CatBoostClassifier"
   ]
  },
  {
   "cell_type": "code",
   "execution_count": 67,
   "outputs": [],
   "source": [
    "df = pd.read_csv(\"Diabetes_dataset.csv\")\n",
    "x = df.drop(\"Outcome\", axis=1)\n",
    "y = df[\"Outcome\"]"
   ],
   "metadata": {
    "collapsed": false,
    "ExecuteTime": {
     "end_time": "2023-08-03T17:32:27.587368Z",
     "start_time": "2023-08-03T17:32:27.538423800Z"
    }
   }
  },
  {
   "cell_type": "code",
   "execution_count": 68,
   "outputs": [
    {
     "data": {
      "text/plain": "((537, 8), (231, 8))"
     },
     "execution_count": 68,
     "metadata": {},
     "output_type": "execute_result"
    }
   ],
   "source": [
    "x_train, x_test, y_train, y_test = train_test_split(x, y, train_size=0.7, random_state=30)\n",
    "x_train.shape, x_test.shape"
   ],
   "metadata": {
    "collapsed": false,
    "ExecuteTime": {
     "end_time": "2023-08-03T17:32:28.253943500Z",
     "start_time": "2023-08-03T17:32:28.203810300Z"
    }
   }
  },
  {
   "cell_type": "code",
   "execution_count": 71,
   "outputs": [
    {
     "name": "stdout",
     "output_type": "stream",
     "text": [
      "0:\tlearn: 0.6682992\ttotal: 1.95ms\tremaining: 95.7ms\n",
      "1:\tlearn: 0.6500678\ttotal: 3.57ms\tremaining: 85.8ms\n",
      "2:\tlearn: 0.6307105\ttotal: 5.52ms\tremaining: 86.4ms\n",
      "3:\tlearn: 0.6126417\ttotal: 6.97ms\tremaining: 80.2ms\n",
      "4:\tlearn: 0.5982039\ttotal: 8.63ms\tremaining: 77.6ms\n",
      "5:\tlearn: 0.5852855\ttotal: 10.3ms\tremaining: 75.8ms\n",
      "6:\tlearn: 0.5730364\ttotal: 11.9ms\tremaining: 72.9ms\n",
      "7:\tlearn: 0.5625226\ttotal: 13.3ms\tremaining: 69.6ms\n",
      "8:\tlearn: 0.5519178\ttotal: 14.7ms\tremaining: 67.1ms\n",
      "9:\tlearn: 0.5422116\ttotal: 16.3ms\tremaining: 65.1ms\n",
      "10:\tlearn: 0.5308461\ttotal: 17.7ms\tremaining: 62.6ms\n",
      "11:\tlearn: 0.5227170\ttotal: 19.2ms\tremaining: 60.9ms\n",
      "12:\tlearn: 0.5136154\ttotal: 20.8ms\tremaining: 59.1ms\n",
      "13:\tlearn: 0.5061613\ttotal: 22.3ms\tremaining: 57.3ms\n",
      "14:\tlearn: 0.4993155\ttotal: 24.2ms\tremaining: 56.4ms\n",
      "15:\tlearn: 0.4925357\ttotal: 26.1ms\tremaining: 55.4ms\n",
      "16:\tlearn: 0.4863582\ttotal: 27.7ms\tremaining: 53.7ms\n",
      "17:\tlearn: 0.4812169\ttotal: 29ms\tremaining: 51.6ms\n",
      "18:\tlearn: 0.4759522\ttotal: 30.5ms\tremaining: 49.7ms\n",
      "19:\tlearn: 0.4708071\ttotal: 32.2ms\tremaining: 48.2ms\n",
      "20:\tlearn: 0.4659184\ttotal: 34.2ms\tremaining: 47.2ms\n",
      "21:\tlearn: 0.4612600\ttotal: 35.7ms\tremaining: 45.5ms\n",
      "22:\tlearn: 0.4569902\ttotal: 37.3ms\tremaining: 43.8ms\n",
      "23:\tlearn: 0.4525304\ttotal: 39.3ms\tremaining: 42.6ms\n",
      "24:\tlearn: 0.4480927\ttotal: 41.3ms\tremaining: 41.3ms\n",
      "25:\tlearn: 0.4444628\ttotal: 43ms\tremaining: 39.7ms\n",
      "26:\tlearn: 0.4403443\ttotal: 44.5ms\tremaining: 37.9ms\n",
      "27:\tlearn: 0.4378944\ttotal: 46.1ms\tremaining: 36.2ms\n",
      "28:\tlearn: 0.4354793\ttotal: 47.6ms\tremaining: 34.5ms\n",
      "29:\tlearn: 0.4324182\ttotal: 49.1ms\tremaining: 32.7ms\n",
      "30:\tlearn: 0.4290720\ttotal: 50.7ms\tremaining: 31.1ms\n",
      "31:\tlearn: 0.4259773\ttotal: 52.2ms\tremaining: 29.4ms\n",
      "32:\tlearn: 0.4229533\ttotal: 54.1ms\tremaining: 27.9ms\n",
      "33:\tlearn: 0.4199883\ttotal: 55.9ms\tremaining: 26.3ms\n",
      "34:\tlearn: 0.4162607\ttotal: 57.3ms\tremaining: 24.6ms\n",
      "35:\tlearn: 0.4142896\ttotal: 58.8ms\tremaining: 22.8ms\n",
      "36:\tlearn: 0.4118232\ttotal: 60.3ms\tremaining: 21.2ms\n",
      "37:\tlearn: 0.4098734\ttotal: 61.7ms\tremaining: 19.5ms\n",
      "38:\tlearn: 0.4078794\ttotal: 63.2ms\tremaining: 17.8ms\n",
      "39:\tlearn: 0.4062064\ttotal: 64.6ms\tremaining: 16.1ms\n",
      "40:\tlearn: 0.4040145\ttotal: 66.1ms\tremaining: 14.5ms\n",
      "41:\tlearn: 0.4019465\ttotal: 67.6ms\tremaining: 12.9ms\n",
      "42:\tlearn: 0.4004326\ttotal: 69.6ms\tremaining: 11.3ms\n",
      "43:\tlearn: 0.3984183\ttotal: 71.4ms\tremaining: 9.73ms\n",
      "44:\tlearn: 0.3959929\ttotal: 72.8ms\tremaining: 8.09ms\n",
      "45:\tlearn: 0.3945040\ttotal: 74.3ms\tremaining: 6.46ms\n",
      "46:\tlearn: 0.3926695\ttotal: 76.3ms\tremaining: 4.87ms\n",
      "47:\tlearn: 0.3908806\ttotal: 77.7ms\tremaining: 3.24ms\n",
      "48:\tlearn: 0.3895357\ttotal: 79.1ms\tremaining: 1.61ms\n",
      "49:\tlearn: 0.3874808\ttotal: 80.4ms\tremaining: 0us\n"
     ]
    },
    {
     "data": {
      "text/plain": "<catboost.core.CatBoostClassifier at 0x22461138510>"
     },
     "execution_count": 71,
     "metadata": {},
     "output_type": "execute_result"
    }
   ],
   "source": [
    "model = CatBoostClassifier(iterations=50, learning_rate=0.1)\n",
    "model.fit(x_train, y_train)"
   ],
   "metadata": {
    "collapsed": false,
    "ExecuteTime": {
     "end_time": "2023-08-03T17:33:38.358225500Z",
     "start_time": "2023-08-03T17:33:38.225472100Z"
    }
   }
  },
  {
   "cell_type": "code",
   "execution_count": 72,
   "outputs": [
    {
     "name": "stdout",
     "output_type": "stream",
     "text": [
      "CatBoost model is fitted: True\n",
      "CatBoost model parameters:\n",
      "{'iterations': 50, 'learning_rate': 0.1}\n"
     ]
    }
   ],
   "source": [
    "print('CatBoost model is fitted: ' + str(model.is_fitted()))\n",
    "print('CatBoost model parameters:')\n",
    "print(model.get_params())"
   ],
   "metadata": {
    "collapsed": false,
    "ExecuteTime": {
     "end_time": "2023-08-03T17:33:39.369442Z",
     "start_time": "2023-08-03T17:33:39.364936300Z"
    }
   }
  },
  {
   "cell_type": "code",
   "execution_count": 73,
   "outputs": [
    {
     "data": {
      "text/plain": "array([0, 0, 0, 0, 0, 0, 1, 0, 0, 0, 0, 0, 0, 0, 0, 0, 0, 0, 1, 0, 0, 1,\n       0, 0, 1, 0, 0, 0, 0, 0, 0, 0, 0, 1, 0, 0, 0, 1, 1, 0, 0, 1, 0, 0,\n       1, 1, 1, 1, 0, 0, 0, 0, 0, 1, 0, 1, 1, 0, 0, 0, 0, 0, 1, 0, 0, 0,\n       1, 1, 1, 0, 0, 1, 0, 0, 0, 1, 0, 1, 1, 0, 0, 0, 0, 1, 0, 0, 0, 0,\n       0, 0, 0, 0, 0, 0, 1, 0, 0, 0, 1, 1, 0, 0, 1, 1, 1, 0, 0, 0, 0, 0,\n       1, 0, 0, 0, 0, 0, 0, 1, 0, 0, 0, 1, 0, 0, 0, 0, 0, 0, 0, 0, 0, 1,\n       0, 0, 1, 0, 1, 0, 0, 0, 1, 0, 0, 0, 0, 0, 1, 0, 0, 1, 0, 0, 1, 0,\n       0, 0, 0, 1, 0, 0, 0, 0, 0, 0, 1, 0, 0, 0, 1, 0, 0, 0, 1, 1, 0, 0,\n       0, 1, 1, 1, 1, 0, 0, 0, 1, 0, 0, 0, 0, 0, 0, 1, 1, 0, 1, 1, 0, 1,\n       0, 1, 0, 0, 1, 0, 1, 0, 0, 0, 1, 0, 0, 0, 1, 0, 0, 0, 0, 0, 1, 1,\n       0, 0, 0, 0, 0, 1, 1, 0, 0, 0, 0], dtype=int64)"
     },
     "execution_count": 73,
     "metadata": {},
     "output_type": "execute_result"
    }
   ],
   "source": [
    "pred = model.predict(x_test)\n",
    "pred"
   ],
   "metadata": {
    "collapsed": false,
    "ExecuteTime": {
     "end_time": "2023-08-03T17:33:40.101366100Z",
     "start_time": "2023-08-03T17:33:40.071689700Z"
    }
   }
  },
  {
   "cell_type": "code",
   "execution_count": 74,
   "outputs": [
    {
     "name": "stdout",
     "output_type": "stream",
     "text": [
      "0.21645021645021645\n",
      "0.7835497835497836\n"
     ]
    }
   ],
   "source": [
    "print(mean_absolute_error(y_test, pred))\n",
    "print(accuracy_score(y_test, pred))"
   ],
   "metadata": {
    "collapsed": false,
    "ExecuteTime": {
     "end_time": "2023-08-03T17:33:40.809421100Z",
     "start_time": "2023-08-03T17:33:40.763594400Z"
    }
   }
  },
  {
   "cell_type": "code",
   "execution_count": 75,
   "outputs": [
    {
     "name": "stdout",
     "output_type": "stream",
     "text": [
      "0.851024208566108\n"
     ]
    }
   ],
   "source": [
    "pred_train = model.predict(x_train)\n",
    "print(accuracy_score(y_train, pred_train))"
   ],
   "metadata": {
    "collapsed": false,
    "ExecuteTime": {
     "end_time": "2023-08-03T17:45:53.378597300Z",
     "start_time": "2023-08-03T17:45:53.375551100Z"
    }
   }
  },
  {
   "cell_type": "code",
   "execution_count": null,
   "outputs": [],
   "source": [],
   "metadata": {
    "collapsed": false
   }
  }
 ],
 "metadata": {
  "kernelspec": {
   "display_name": "Python 3",
   "language": "python",
   "name": "python3"
  },
  "language_info": {
   "codemirror_mode": {
    "name": "ipython",
    "version": 2
   },
   "file_extension": ".py",
   "mimetype": "text/x-python",
   "name": "python",
   "nbconvert_exporter": "python",
   "pygments_lexer": "ipython2",
   "version": "2.7.6"
  }
 },
 "nbformat": 4,
 "nbformat_minor": 0
}
